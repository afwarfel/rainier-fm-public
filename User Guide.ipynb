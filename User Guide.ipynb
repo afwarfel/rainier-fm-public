{
 "cells": [
  {
   "cell_type": "markdown",
   "metadata": {},
   "source": [
    "# Rainier Financial Model API User Guide\n",
    "\n",
    "Below is the user guide for the Rainier Financial Model, written by Alex Warfel, CFA. This notebook contains Python code showing how you can interact with the API. You can also use Postman and other tools. Use is subject to certain restrictions. Always consult a financial professional before implementing or acting on the results of this model.\n",
    "\n",
    "- [API and project details](https://rainierfm.com/)\n",
    "- [Detailed API documentation](https://rainierfm.com/docs)"
   ]
  },
  {
   "cell_type": "code",
   "execution_count": 1,
   "metadata": {},
   "outputs": [],
   "source": [
    "import requests, json\n",
    "import pandas as pd\n",
    "import matplotlib.pyplot as plt"
   ]
  },
  {
   "cell_type": "markdown",
   "metadata": {},
   "source": [
    "# Initial setup and Credentialling\n",
    "\n",
    "First, we need to define the base URL that is used for connecting to the API. Since this project is still early on, the base url could change. "
   ]
  },
  {
   "cell_type": "code",
   "execution_count": 2,
   "metadata": {},
   "outputs": [],
   "source": [
    "base_url = \"https://rainierfm.com\""
   ]
  },
  {
   "cell_type": "markdown",
   "metadata": {},
   "source": [
    "Next, you can hardcode your credentials here which will assist later on in working with the API. Remember, don't share these credentials with anyone other than you. "
   ]
  },
  {
   "cell_type": "code",
   "execution_count": 3,
   "metadata": {},
   "outputs": [],
   "source": [
    "email = \"example@youremail.com\"\n",
    "password = \"a_super_complex_password_22\""
   ]
  },
  {
   "cell_type": "markdown",
   "metadata": {},
   "source": [
    "# Confirming the API is healthy\n",
    "\n",
    "First, we will do a health check of the API and confirm that it is operating properly before we connect to it. The response should look like:\n",
    "\n",
    "```\n",
    "200\n",
    "{'status': 'healthy'}\n",
    "```"
   ]
  },
  {
   "cell_type": "code",
   "execution_count": null,
   "metadata": {},
   "outputs": [],
   "source": [
    "health_check_url = f\"{base_url}/health/\"\n",
    "\n",
    "response = requests.get(health_check_url)\n",
    "print(response.status_code)\n",
    "response.json()"
   ]
  },
  {
   "cell_type": "markdown",
   "metadata": {},
   "source": [
    "# Account Registration\n",
    "\n",
    "Next, we'll create your account. This process creates an account for you in our third party identity provider. Reminder: we don't store your email address alongside any financial information. If things are successful, the response you can expect is:\n",
    "\n",
    "```\n",
    "200\n",
    "{'message': 'User registered successfully'}\n",
    "```"
   ]
  },
  {
   "cell_type": "code",
   "execution_count": null,
   "metadata": {},
   "outputs": [],
   "source": [
    "register_url = f\"{base_url}/register/\"\n",
    "payload = {\n",
    "  \"email\": email,\n",
    "  \"password\": password\n",
    "}\n",
    "response = requests.post(register_url, json=payload)\n",
    "print(response.status_code)\n",
    "response.json()"
   ]
  },
  {
   "cell_type": "markdown",
   "metadata": {},
   "source": [
    "# Login and collect an access token\n",
    "\n",
    "Once you've created an account successfully, you will want to login and get an access token. The token itself is how the API will determine who you are and what you have access to. Do not share this token with anyone, and you will need to create a new token after some number of hours. This is to improve security. A successful response will look like:\n",
    "\n",
    "```\n",
    "200\n",
    "{'access_token': <some_token_string>}\n",
    "```"
   ]
  },
  {
   "cell_type": "code",
   "execution_count": null,
   "metadata": {},
   "outputs": [],
   "source": [
    "login_url = f\"{base_url}/login/\"\n",
    "payload = {\n",
    "    \"email\": email,\n",
    "    \"password\": password\n",
    "}\n",
    "\n",
    "headers = {\n",
    "    \"Content-Type\": \"application/json\"\n",
    "}\n",
    "\n",
    "response = requests.post(login_url, json=payload, headers=headers)\n",
    "print(response.status_code)\n",
    "response.json()"
   ]
  },
  {
   "cell_type": "markdown",
   "metadata": {},
   "source": [
    "After that's done, just assign your access token to some variable so it can easily be used throughout the rest of your session. You will also now need to use headers to interact with the API. The headers are sent alongside your API requests and will pass your token onto the API which is used to determining who you are. "
   ]
  },
  {
   "cell_type": "code",
   "execution_count": 7,
   "metadata": {},
   "outputs": [],
   "source": [
    "access_token = response.json()[\"access_token\"]\n",
    "access_token\n",
    "\n",
    "# add the access token to the headers\n",
    "headers = {\n",
    "    \"Content-Type\": \"application/json\",\n",
    "    \"Authorization\": f\"Bearer {access_token}\"\n",
    "}"
   ]
  },
  {
   "cell_type": "markdown",
   "metadata": {},
   "source": [
    "# Add inputs to the model and initiate a model run\n",
    "\n",
    "Next, you'll want to send along some financial details to the model so a model run can begin. Below is what the typical request body will look like. Once you submit these details, the model will begin to run. It takes about two minutes for a run to complete. If your results are accepted, this is the response you can expect:\n",
    "\n",
    "```\n",
    "201\n",
    "{'message': 'Model inputs added successfully and Lambda function invoked'}\n",
    "```\n",
    "\n",
    "## NOTE\n",
    "If you have not been approved to use the model, you will see an error indicating you are not a valid user. That will look like:\n",
    "\n",
    "```\n",
    "403\n",
    "{'error': 'User does not have the required valid_user role'}\n",
    "```\n",
    "\n",
    "In order to resolve this, you will need to reach out to alexwarfel@gmail.com to resolve this. "
   ]
  },
  {
   "cell_type": "code",
   "execution_count": null,
   "metadata": {},
   "outputs": [],
   "source": [
    "add_model_inputs_url = f\"{base_url}/add_model_inputs/\"\n",
    "\n",
    "payload = {\n",
    "    \"gross_current_income\": 65000,\n",
    "    \"gross_current_savings_rate\": 0.25,\n",
    "    \"assets\": 1000,\n",
    "    \"savings\": 5000,\n",
    "    \"tax_rate\": 0.30,\n",
    "    \"birthday\": \"2000-11-29\",\n",
    "    \"current_debt_accounts\": [\n",
    "        {\n",
    "            \"balance\": 2500,\n",
    "            \"interest_rate\": 0.21,\n",
    "            \"minimum_payment\": 100,\n",
    "            \"name\": \"Credit Card\"\n",
    "        },\n",
    "        {\n",
    "            \"balance\": 90000,\n",
    "            \"interest_rate\": 0.05,\n",
    "            \"minimum_payment\": 200,\n",
    "            \"name\": \"Student Loan\"\n",
    "        },\n",
    "        {\n",
    "            \"balance\": 10000,\n",
    "            \"interest_rate\": 0.07,\n",
    "            \"minimum_payment\": 100,\n",
    "            \"name\": \"Car Loan\"\n",
    "        }\n",
    "    ],\n",
    "    \"gender\": \"M\",\n",
    "    \"percentage_of_nominal_spending_for_housing\": 0.25,\n",
    "    \"initial_retirement_age\": 65,\n",
    "    \"non_retirement_goals\": [\n",
    "        {\n",
    "            \"age\": 27,\n",
    "            \"amount_in_real_terms\": 4000,\n",
    "            \"chance_of_success\": 0.90,\n",
    "            \"name\": \"Trip to Europe\"\n",
    "        },\n",
    "        {\n",
    "            \"age\": 35,\n",
    "            \"amount_in_real_terms\": 25000,\n",
    "            \"chance_of_success\": 0.75,\n",
    "            \"name\": \"Buy a boat\"\n",
    "        }\n",
    "    ]\n",
    "}\n",
    "\n",
    "response = requests.post(add_model_inputs_url, headers=headers, data=json.dumps(payload))\n",
    "print(response.status_code)\n",
    "response.json()"
   ]
  },
  {
   "cell_type": "markdown",
   "metadata": {},
   "source": [
    "# Check the status of your model runs\n",
    "\n",
    "After you've submitted some inputs, you can check the status of those model runs. A typical response will look like:\n",
    "\n",
    "```\n",
    "200\n",
    "[{'model_id': <some_model_id_string>,\n",
    "  'model_input_dt': '2024-09-14T15:36:18',\n",
    "  'model_start_runtime_dt': '2024-09-14T15:36:21',\n",
    "  'model_output_dt': '2024-09-14T15:38:07',\n",
    "  'status': 'complete',\n",
    "  'time_since_submission': '6m 16s',\n",
    "  'model_runtime': '1m 46s'}]\n",
    "```"
   ]
  },
  {
   "cell_type": "code",
   "execution_count": null,
   "metadata": {},
   "outputs": [],
   "source": [
    "check_model_metadata = f\"{base_url}/view_model_metadata/\"\n",
    "payload = {\n",
    "  \"email\": email,\n",
    "  \"password\": password\n",
    "}\n",
    "\n",
    "response = requests.post(check_model_metadata, headers=headers, data=json.dumps(payload))\n",
    "print(response.status_code)\n",
    "response.json()"
   ]
  },
  {
   "cell_type": "markdown",
   "metadata": {},
   "source": [
    "# Checking the results of the model\n",
    "\n",
    "The ```model_id``` from the above request will be important. That is how you will access the results of a model. You can pass that ```model_id``` in to this next endpoint to see a JSON object containing the inputs, outputs, and other details related to the model. Refer to the documentation for the outputs. "
   ]
  },
  {
   "cell_type": "code",
   "execution_count": null,
   "metadata": {},
   "outputs": [],
   "source": [
    "model_id = response.json()[0][\"model_id\"]\n",
    "\n",
    "check_model_results = f\"{base_url}/view_model_results/\"\n",
    "payload = {\n",
    "  \"email\": email,\n",
    "  \"model_id\": model_id,\n",
    "  \"password\": password\n",
    "}\n",
    "\n",
    "response = requests.post(check_model_results, headers=headers, data=json.dumps(payload))\n",
    "print(response.status_code)\n",
    "model_output = response.json()[0]\n",
    "model_output"
   ]
  },
  {
   "cell_type": "markdown",
   "metadata": {},
   "source": [
    "# Working with the model outputs\n",
    "\n",
    "Now that you have obtained the results of the model, here is how you can review and analyze them. The first layer of the JSOn object contains the outputs of two broad models. The first model calculates the optimal savings rate, and teh second model calculates the distributional outcomes assuming that optimal savings rate. "
   ]
  },
  {
   "cell_type": "code",
   "execution_count": null,
   "metadata": {},
   "outputs": [],
   "source": [
    "model_output_results = model_output['model_output']\n",
    "model_output_results.keys()"
   ]
  },
  {
   "cell_type": "markdown",
   "metadata": {},
   "source": [
    "# Optimal savings rates\n",
    "First, we'll look at the optimized savings rate. "
   ]
  },
  {
   "cell_type": "code",
   "execution_count": null,
   "metadata": {},
   "outputs": [],
   "source": [
    "monte_carlo_optimize_savings_rate = model_output_results['monte_carlo_optimize_savings_rate']\n",
    "monte_carlo_optimize_savings_rate"
   ]
  },
  {
   "cell_type": "code",
   "execution_count": null,
   "metadata": {},
   "outputs": [],
   "source": [
    "monte_carlo_optimize_savings_rate_df = pd.DataFrame(monte_carlo_optimize_savings_rate)\n",
    "monte_carlo_optimize_savings_rate_df"
   ]
  },
  {
   "cell_type": "markdown",
   "metadata": {},
   "source": [
    "The below plot will show how your chance of meeting your retirement and non-retirement goals based on the different savings rates we attempted. "
   ]
  },
  {
   "cell_type": "code",
   "execution_count": null,
   "metadata": {},
   "outputs": [],
   "source": [
    "monte_carlo_optimize_savings_rate_df.plot(x='Savings Rate', y='Success Rate', kind='area')"
   ]
  },
  {
   "cell_type": "markdown",
   "metadata": {},
   "source": [
    "# Distributional analysis\n",
    "Below are the types of analyses that are already completed from the model. Most of the time, things are broken down by a column called ```name``` which represents the user's age. Things are also typically broken out by quantile, so you will often see ```<column_name_qXX>``` where XX represents the quantile number. The monte carlo is run hundreds of times, so it makes sense to provide the distribution results. "
   ]
  },
  {
   "cell_type": "code",
   "execution_count": null,
   "metadata": {},
   "outputs": [],
   "source": [
    "model_output_results['monte_carlo_distributions'].keys()"
   ]
  },
  {
   "cell_type": "code",
   "execution_count": 37,
   "metadata": {},
   "outputs": [],
   "source": [
    "monte_carlo_distributions = model_output_results['monte_carlo_distributions']\n",
    "\n",
    "networth_chart = monte_carlo_distributions['networth_chart']\n",
    "recommendations = monte_carlo_distributions['recommendations']\n",
    "full_distributions = monte_carlo_distributions['full_distributions']\n",
    "cashflow_composition = monte_carlo_distributions['cashflow_composition']\n",
    "lifetim_salary_and_spending = monte_carlo_distributions['lifetime_salary_and_spending']"
   ]
  },
  {
   "cell_type": "code",
   "execution_count": null,
   "metadata": {},
   "outputs": [],
   "source": [
    "# Convert to DataFrame\n",
    "full_distributions_df = pd.DataFrame(full_distributions)\n",
    "full_distributions_df.rename(columns={'name':'age'}, inplace=True)\n",
    "full_distributions_df = full_distributions_df.set_index('age')\n",
    "full_distributions_df"
   ]
  },
  {
   "cell_type": "code",
   "execution_count": null,
   "metadata": {},
   "outputs": [],
   "source": [
    "# Remove the quantile denotations to see what kind of columns are included the in the DataFrame\n",
    "full_distributions_df_columns = full_distributions_df.columns.str.replace(r'_q\\d{2}$', '', regex=True)\n",
    "full_distributions_df_columns = full_distributions_df_columns.unique()\n",
    "full_distributions_df_columns"
   ]
  },
  {
   "cell_type": "code",
   "execution_count": null,
   "metadata": {},
   "outputs": [],
   "source": [
    "# Filter the dataframe to remove 0 values\n",
    "filtered_df = full_distributions_df[['Real Salary_q10', 'Real Salary_q25', 'Real Salary_q50', 'Real Salary_q75', 'Real Salary_q90']].replace(0, pd.NA).dropna()\n",
    "\n",
    "# Remove the first record because it is a partial year\n",
    "filtered_df = filtered_df.drop(filtered_df.index[0])\n",
    "\n",
    "# Plot the filtered dataframe\n",
    "filtered_df.plot()"
   ]
  },
  {
   "cell_type": "code",
   "execution_count": null,
   "metadata": {},
   "outputs": [],
   "source": [
    "cashflow_composition_df = pd.DataFrame(cashflow_composition)\n",
    "cashflow_composition_df"
   ]
  },
  {
   "cell_type": "code",
   "execution_count": null,
   "metadata": {},
   "outputs": [],
   "source": [
    "cashflow_composition_df_columns = cashflow_composition_df.columns.str.replace(r'_q\\d{2}$', '', regex=True)\n",
    "cashflow_composition_df_columns = cashflow_composition_df_columns.unique()\n",
    "cashflow_composition_df_columns"
   ]
  },
  {
   "cell_type": "code",
   "execution_count": null,
   "metadata": {},
   "outputs": [],
   "source": [
    "# Filter the dataframe to remove 0 values\n",
    "filtered_df = cashflow_composition_df[['Real Amount Returned by Market_q10', 'Real Amount Returned by Market_q25', 'Real Amount Returned by Market_q50', 'Real Amount Returned by Market_q75', 'Real Amount Returned by Market_q90']].replace(0, pd.NA).dropna()\n",
    "\n",
    "# Remove the first record because it is a partial year\n",
    "filtered_df = filtered_df.drop(filtered_df.index[0])\n",
    "\n",
    "# Plot the filtered dataframe\n",
    "filtered_df.plot()"
   ]
  },
  {
   "cell_type": "code",
   "execution_count": 33,
   "metadata": {},
   "outputs": [],
   "source": [
    "def save_to_csv(df, filename):\n",
    "    df.to_csv(filename)\n",
    "    print(f\"Saved to {filename}\")"
   ]
  },
  {
   "cell_type": "markdown",
   "metadata": {},
   "source": [
    "# Change password\n",
    "\n",
    "In the event you believe your password is compromised and you would like to change it, you can do so with the below endpoint. A successful response will look like:\n",
    "\n",
    "```\n",
    "200\n",
    "{'message': 'Password changed successfully'}\n",
    "```"
   ]
  },
  {
   "cell_type": "code",
   "execution_count": null,
   "metadata": {},
   "outputs": [],
   "source": [
    "# change_password_url = f\"{base_url}/change_password/\"\n",
    "# payload = {\n",
    "#     \"email\": email,\n",
    "#     \"new_password\": \"new_password1234\",\n",
    "#     \"old_password\": password\n",
    "# }\n",
    "\n",
    "# response = requests.post(change_password_url, headers=headers, data=json.dumps(payload))\n",
    "# print(response.status_code)\n",
    "# response.json()"
   ]
  },
  {
   "cell_type": "markdown",
   "metadata": {},
   "source": [
    "# Delete account\n",
    "\n",
    "In the event you would like to remove your personally identifiable information from the API, you can delete your account. Note that you will have to re-register in order to use the API again. The only response you can expect if things are successful is:\n",
    "\n",
    "```\n",
    "204\n",
    "```"
   ]
  },
  {
   "cell_type": "code",
   "execution_count": null,
   "metadata": {},
   "outputs": [],
   "source": [
    "# delete_account_url = f\"{base_url}/delete_account/\"\n",
    "# payload = {\n",
    "#     \"email\": email,\n",
    "#     \"password\": password\n",
    "# }\n",
    "\n",
    "# response = requests.delete(delete_account_url, headers=headers, data=json.dumps(payload))\n",
    "# print(response.status_code)"
   ]
  }
 ],
 "metadata": {
  "kernelspec": {
   "display_name": "env",
   "language": "python",
   "name": "python3"
  },
  "language_info": {
   "codemirror_mode": {
    "name": "ipython",
    "version": 3
   },
   "file_extension": ".py",
   "mimetype": "text/x-python",
   "name": "python",
   "nbconvert_exporter": "python",
   "pygments_lexer": "ipython3",
   "version": "3.12.5"
  }
 },
 "nbformat": 4,
 "nbformat_minor": 2
}
